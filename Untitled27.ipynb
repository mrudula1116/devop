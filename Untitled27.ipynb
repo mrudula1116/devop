{
 "cells": [
  {
   "cell_type": "code",
   "execution_count": 5,
   "id": "f1a405ad",
   "metadata": {},
   "outputs": [
    {
     "name": "stdout",
     "output_type": "stream",
     "text": [
      "Enter the namearya\n",
      "Enter the number1\n",
      "Enter the class namefy\n",
      "Student name: arya\n",
      "Student roll no: 1\n",
      "student class name: fy\n"
     ]
    }
   ],
   "source": [
    "class student:\n",
    "    def init_(self):\n",
    "        self.name=\"\"\n",
    "        self.roll_no=\"\"\n",
    "        self.class_name=\"\"\n",
    "\n",
    "    def read_values(self):\n",
    "        self.name=input(\"Enter the name\")\n",
    "        self.roll_no=input(\"Enter the number\")\n",
    "        self.class_name=input(\"Enter the class name\")\n",
    "\n",
    "    def display(self):\n",
    "        print(\"Student name:\",self.name)\n",
    "        print(\"Student roll no:\",self.roll_no)\n",
    "        print(\"student class name:\",self.class_name)\n",
    "\n",
    "student1=student()\n",
    "student1.read_values()\n",
    "student1.display()"
   ]
  },
  {
   "cell_type": "code",
   "execution_count": null,
   "id": "1a88277d",
   "metadata": {},
   "outputs": [],
   "source": []
  }
 ],
 "metadata": {
  "kernelspec": {
   "display_name": "Python 3 (ipykernel)",
   "language": "python",
   "name": "python3"
  },
  "language_info": {
   "codemirror_mode": {
    "name": "ipython",
    "version": 3
   },
   "file_extension": ".py",
   "mimetype": "text/x-python",
   "name": "python",
   "nbconvert_exporter": "python",
   "pygments_lexer": "ipython3",
   "version": "3.11.3"
  }
 },
 "nbformat": 4,
 "nbformat_minor": 5
}
